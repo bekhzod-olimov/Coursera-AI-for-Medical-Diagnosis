{
 "cells": [
  {
   "cell_type": "code",
   "execution_count": 1,
   "metadata": {},
   "outputs": [],
   "source": [
    "import pandas as pd\n",
    "import numpy as np\n",
    "from matplotlib import pyplot as plt\n",
    "import seaborn as sns\n",
    "%matplotlib inline"
   ]
  },
  {
   "cell_type": "code",
   "execution_count": 4,
   "metadata": {},
   "outputs": [],
   "source": [
    "train_df = pd.read_csv(\"data/train-small.csv\")"
   ]
  },
  {
   "cell_type": "code",
   "execution_count": 5,
   "metadata": {},
   "outputs": [
    {
     "name": "stdout",
     "output_type": "stream",
     "text": [
      "              Image  Atelectasis  Cardiomegaly  Consolidation  Edema  \\\n",
      "0  00008270_015.png            0             0              0      0   \n",
      "1  00029855_001.png            1             0              0      0   \n",
      "2  00001297_000.png            0             0              0      0   \n",
      "3  00012359_002.png            0             0              0      0   \n",
      "4  00017951_001.png            0             0              0      0   \n",
      "\n",
      "   Effusion  Emphysema  Fibrosis  Hernia  Infiltration  Mass  Nodule  \\\n",
      "0         0          0         0       0             0     0       0   \n",
      "1         1          0         0       0             1     0       0   \n",
      "2         0          0         0       0             0     0       0   \n",
      "3         0          0         0       0             0     0       0   \n",
      "4         0          0         0       0             1     0       0   \n",
      "\n",
      "   PatientId  Pleural_Thickening  Pneumonia  Pneumothorax  \n",
      "0       8270                   0          0             0  \n",
      "1      29855                   0          0             0  \n",
      "2       1297                   1          0             0  \n",
      "3      12359                   0          0             0  \n",
      "4      17951                   0          0             0  \n"
     ]
    }
   ],
   "source": [
    "print(train_df.head())"
   ]
  },
  {
   "cell_type": "code",
   "execution_count": 6,
   "metadata": {},
   "outputs": [
    {
     "name": "stdout",
     "output_type": "stream",
     "text": [
      "Image                 00008270_015.png00029855_001.png00001297_000.p...\n",
      "Atelectasis                                                         106\n",
      "Cardiomegaly                                                         20\n",
      "Consolidation                                                        33\n",
      "Edema                                                                16\n",
      "Effusion                                                            128\n",
      "Emphysema                                                            13\n",
      "Fibrosis                                                             14\n",
      "Hernia                                                                2\n",
      "Infiltration                                                        175\n",
      "Mass                                                                 45\n",
      "Nodule                                                               54\n",
      "PatientId                                                      14742252\n",
      "Pleural_Thickening                                                   21\n",
      "Pneumonia                                                            10\n",
      "Pneumothorax                                                         38\n",
      "dtype: object\n"
     ]
    }
   ],
   "source": [
    "class_counts = train_df.sum()\n",
    "print(class_counts)"
   ]
  },
  {
   "cell_type": "code",
   "execution_count": 7,
   "metadata": {},
   "outputs": [
    {
     "name": "stdout",
     "output_type": "stream",
     "text": [
      "Atelectasis           106\n",
      "Cardiomegaly           20\n",
      "Consolidation          33\n",
      "Edema                  16\n",
      "Effusion              128\n",
      "Emphysema              13\n",
      "Fibrosis               14\n",
      "Hernia                  2\n",
      "Infiltration          175\n",
      "Mass                   45\n",
      "Nodule                 54\n",
      "Pleural_Thickening     21\n",
      "Pneumonia              10\n",
      "Pneumothorax           38\n",
      "dtype: object\n"
     ]
    }
   ],
   "source": [
    "class_counts = train_df.sum().drop([\"Image\", \"PatientId\"])\n",
    "print(class_counts)"
   ]
  },
  {
   "cell_type": "code",
   "execution_count": 10,
   "metadata": {},
   "outputs": [
    {
     "name": "stdout",
     "output_type": "stream",
     "text": [
      "The class Atelectasis has 106 samples\n",
      "The class Cardiomegaly has 20 samples\n",
      "The class Consolidation has 33 samples\n",
      "The class Edema has 16 samples\n",
      "The class Effusion has 128 samples\n",
      "The class Emphysema has 13 samples\n",
      "The class Fibrosis has 14 samples\n",
      "The class Hernia has 2 samples\n",
      "The class Infiltration has 175 samples\n",
      "The class Mass has 45 samples\n",
      "The class Nodule has 54 samples\n",
      "The class Pleural_Thickening has 21 samples\n",
      "The class Pneumonia has 10 samples\n",
      "The class Pneumothorax has 38 samples\n"
     ]
    }
   ],
   "source": [
    "for class_name, class_count in class_counts.items():\n",
    "    print(f\"The class {class_name} has {class_count} samples\")"
   ]
  },
  {
   "cell_type": "code",
   "execution_count": 20,
   "metadata": {},
   "outputs": [
    {
     "data": {
      "text/plain": [
       "<matplotlib.axes._subplots.AxesSubplot at 0x1aae8707940>"
      ]
     },
     "execution_count": 20,
     "metadata": {},
     "output_type": "execute_result"
    },
    {
     "data": {
      "image/png": "[encoded data removed]",
      "text/plain": [
       "<Figure size 432x288 with 1 Axes>"
      ]
     },
     "metadata": {
      "needs_background": "light"
     },
     "output_type": "display_data"
    }
   ],
   "source": [
    "sns.barplot(class_counts.values, class_counts.keys(), color='m', alpha=0.7)"
   ]
  },
  {
   "cell_type": "code",
   "execution_count": 22,
   "metadata": {},
   "outputs": [
    {
     "name": "stdout",
     "output_type": "stream",
     "text": [
      "y_true:\n",
      " [[1]\n",
      " [1]\n",
      " [1]\n",
      " [0]]\n"
     ]
    }
   ],
   "source": [
    "y_true = np.array([[1], [1], [1], [0]])\n",
    "print(f\"y_true:\\n {y_true}\")"
   ]
  },
  {
   "cell_type": "code",
   "execution_count": 28,
   "metadata": {},
   "outputs": [
    {
     "name": "stdout",
     "output_type": "stream",
     "text": [
      "y_pred_1: \n",
      "[[0.9]\n",
      " [0.9]\n",
      " [0.9]\n",
      " [0.9]]\n",
      "y_pred_2: \n",
      "[[0.1]\n",
      " [0.1]\n",
      " [0.1]\n",
      " [0.1]]\n"
     ]
    }
   ],
   "source": [
    "y_pred_1 = 0.9 * np.ones((y_true.shape))\n",
    "print(f\"y_pred_1: \\n{y_pred_1}\")\n",
    "y_pred_2 = 0.1 * np.ones((y_true.shape))\n",
    "print(f\"y_pred_2: \\n{y_pred_2}\")"
   ]
  },
  {
   "cell_type": "code",
   "execution_count": 34,
   "metadata": {},
   "outputs": [
    {
     "name": "stdout",
     "output_type": "stream",
     "text": [
      "loss_reg_1: 2.6187\n"
     ]
    }
   ],
   "source": [
    "loss_reg_1 = np.sum(-1 * (y_true * np.log(y_pred_1)) + (-1 * (1 - y_true) * np.log(1 - y_pred_1)))\n",
    "print(f\"loss_reg_1: {loss_reg_1:.4f}\")"
   ]
  },
  {
   "cell_type": "code",
   "execution_count": 35,
   "metadata": {},
   "outputs": [
    {
     "name": "stdout",
     "output_type": "stream",
     "text": [
      "loss_reg_2: 7.0131\n"
     ]
    }
   ],
   "source": [
    "loss_reg_2 = np.sum(-(y_true * np.log(y_pred_2)) + (-(1-y_true) * np.log(1-y_pred_2)))\n",
    "print(f\"loss_reg_2: {loss_reg_2:.4f}\")"
   ]
  },
  {
   "cell_type": "code",
   "execution_count": 40,
   "metadata": {},
   "outputs": [
    {
     "name": "stdout",
     "output_type": "stream",
     "text": [
      "Positive weight: 0.25\n",
      "Negative weight: 0.75\n"
     ]
    }
   ],
   "source": [
    "w_p = np.sum(y_true == 0) / y_true.shape[0]\n",
    "w_n = 1 - w_p\n",
    "print(f\"Positive weight: {w_p}\")\n",
    "print(f\"Negative weight: {w_n}\")"
   ]
  },
  {
   "cell_type": "code",
   "execution_count": 43,
   "metadata": {},
   "outputs": [
    {
     "name": "stdout",
     "output_type": "stream",
     "text": [
      "loss_1_pos: 0.0790\n",
      "loss_1_neg: 1.7269\n",
      "loss_1: 1.8060\n"
     ]
    }
   ],
   "source": [
    "loss_1_pos = np.sum(-(w_p * y_true * np.log(y_pred_1)))\n",
    "loss_1_neg = np.sum(-(w_n * (1 - y_true) * np.log(1 - y_pred_1)))\n",
    "loss_1 = loss_1_pos + loss_1_neg\n",
    "print(f\"loss_1_pos: {loss_1_pos:.4f}\")\n",
    "print(f\"loss_1_neg: {loss_1_neg:.4f}\")\n",
    "print(f\"loss_1: {loss_1:.4f}\")"
   ]
  },
  {
   "cell_type": "code",
   "execution_count": 44,
   "metadata": {},
   "outputs": [
    {
     "name": "stdout",
     "output_type": "stream",
     "text": [
      "loss_2_pos: 1.7269\n",
      "loss_2_neg: 0.0790\n",
      "loss_2: 1.8060\n"
     ]
    }
   ],
   "source": [
    "loss_2_pos = np.sum(-(w_p * y_true * np.log(y_pred_2)))\n",
    "loss_2_neg = np.sum(-(w_n * (1-y_true) * np.log(1-y_pred_2)))\n",
    "loss_2 = loss_2_pos + loss_2_neg\n",
    "print(f\"loss_2_pos: {loss_2_pos:.4f}\")\n",
    "print(f\"loss_2_neg: {loss_2_neg:.4f}\")\n",
    "print(f\"loss_2: {loss_2:.4f}\")"
   ]
  },
  {
   "cell_type": "code",
   "execution_count": 45,
   "metadata": {},
   "outputs": [
    {
     "name": "stdout",
     "output_type": "stream",
     "text": [
      "y_true: \n",
      "[[1 0]\n",
      " [1 0]\n",
      " [1 0]\n",
      " [1 0]\n",
      " [0 1]]\n"
     ]
    }
   ],
   "source": [
    "y_true = np.array([[1, 0], [1, 0], [1, 0], [1, 0], [0, 1]])\n",
    "print(f\"y_true: \\n{y_true}\")"
   ]
  },
  {
   "cell_type": "code",
   "execution_count": 46,
   "metadata": {},
   "outputs": [
    {
     "name": "stdout",
     "output_type": "stream",
     "text": [
      "Sum over axis=0: [4 1]\n",
      "Sum over axis=1: [1 1 1 1 1]\n"
     ]
    }
   ],
   "source": [
    "print(f\"Sum over axis=0: {np.sum(y_true, axis=0)}\")\n",
    "print(f\"Sum over axis=1: {np.sum(y_true, axis=1)}\")"
   ]
  },
  {
   "cell_type": "code",
   "execution_count": 50,
   "metadata": {},
   "outputs": [
    {
     "name": "stdout",
     "output_type": "stream",
     "text": [
      "Positive class weight: [0.2 0.8]\n",
      "Negative class weight: [0.8 0.2]\n"
     ]
    }
   ],
   "source": [
    "w_p = np.sum(y_true == 0, axis=0) / y_true.shape[0]\n",
    "w_n = np.sum(y_true == 1, axis=0) / y_true.shape[0]\n",
    "print(f\"Positive class weight: {w_p}\")\n",
    "print(f\"Negative class weight: {w_n}\")"
   ]
  },
  {
   "cell_type": "code",
   "execution_count": 55,
   "metadata": {},
   "outputs": [
    {
     "name": "stdout",
     "output_type": "stream",
     "text": [
      "y_pred: \n",
      "[[0.3 0.7]\n",
      " [0.3 0.7]\n",
      " [0.3 0.7]\n",
      " [0.3 0.7]\n",
      " [0.3 0.7]]\n"
     ]
    }
   ],
   "source": [
    "y_pred = np.ones(y_true.shape)\n",
    "y_pred[:, 0] = 0.3  \n",
    "y_pred[:, 1] = 0.7 \n",
    "print(f\"y_pred: \\n{y_pred}\")"
   ]
  },
  {
   "cell_type": "code",
   "execution_count": 57,
   "metadata": {},
   "outputs": [
    {
     "name": "stdout",
     "output_type": "stream",
     "text": [
      "y_true=0: [1 1 1 1 0]\n",
      "y_pred=0: [0.3 0.3 0.3 0.3 0.3]\n",
      "w_p: 0.2\n"
     ]
    }
   ],
   "source": [
    "print(f\"y_true=0: {y_true[:, 0]}\")\n",
    "print(f\"y_pred=0: {y_pred[:, 0]}\")\n",
    "print(f\"w_p: {w_p[0]}\")"
   ]
  },
  {
   "cell_type": "code",
   "execution_count": 61,
   "metadata": {},
   "outputs": [
    {
     "name": "stdout",
     "output_type": "stream",
     "text": [
      "loss_0_pos: 0.9632\n",
      "loss_0_neg: 0.2853\n",
      "loss_0: 1.2485\n"
     ]
    }
   ],
   "source": [
    "loss_0_pos = np.sum(-(w_p[0] * y_true[:, 0] * np.log(y_pred[:, 0])))\n",
    "loss_0_neg = np.sum(-(w_n[0] * (1 - y_true[:, 0])) * np.log(1 - y_pred[:, 0]))\n",
    "loss_0 = loss_0_pos + loss_0_neg\n",
    "print(f\"loss_0_pos: {loss_0_pos:.4f}\")\n",
    "print(f\"loss_0_neg: {loss_0_neg:.4f}\")\n",
    "print(f\"loss_0: {loss_0:.4f}\")"
   ]
  },
  {
   "cell_type": "code",
   "execution_count": 64,
   "metadata": {},
   "outputs": [
    {
     "name": "stdout",
     "output_type": "stream",
     "text": [
      "loss_1_pos: 0.2853\n",
      "loss_1_neg: 0.9632\n",
      "loss_1: 1.2485\n"
     ]
    }
   ],
   "source": [
    "loss_1_pos = np.sum(-(y_true[:, 1] * w_p[1] * np.log(y_pred[:, 1])))\n",
    "loss_1_neg = np.sum(-((1-y_true[:, 1]) * w_n[1] * np.log(1-y_pred[:, 1])))\n",
    "loss_1 = loss_1_pos + loss_1_neg\n",
    "print(f\"loss_1_pos: {loss_1_pos:.4f}\")\n",
    "print(f\"loss_1_neg: {loss_1_neg:.4f}\")\n",
    "print(f\"loss_1: {loss_1:.4f}\")"
   ]
  },
  {
   "cell_type": "code",
   "execution_count": 66,
   "metadata": {},
   "outputs": [
    {
     "name": "stdout",
     "output_type": "stream",
     "text": [
      "1.2729656758128876\n"
     ]
    }
   ],
   "source": [
    "y_pred = np.array([[0.6], [0.3]])\n",
    "y_true = np.array([[0], [0]])\n",
    "loss = np.sum(-(y_true * np.log(y_pred)) - (1 - y_true) * np.log(1 - y_pred))\n",
    "print(loss)"
   ]
  },
  {
   "cell_type": "code",
   "execution_count": 80,
   "metadata": {},
   "outputs": [
    {
     "name": "stdout",
     "output_type": "stream",
     "text": [
      "{0, 1, 2}\n"
     ]
    }
   ],
   "source": [
    "df1 = pd.DataFrame({'patient_id': [0, 1, 2]})\n",
    "df2 = pd.DataFrame({'patient_id': [2, 3, 4]})\n",
    "df3 = pd.DataFrame({'patient_id': [0, 1, 2]})\n",
    "df4 = pd.DataFrame({'patient_id': [3, 4, 5]})\n",
    "df1_unique = set(df1['patient_id'])\n",
    "print(df1_unique)\n",
    "# df2_unique = set(df2)\n",
    "# df3_unique = set(df3)\n",
    "# df4_unique = set(df4)\n",
    "\n",
    "# patients_in_1_2_groups = list(df1_unique.intersection(df2_unique))\n",
    "# patients_in_3_4_groups = list(df3_unique.intersection(df4_unique))\n",
    "\n",
    "# print(patients_in_1_2_groups)\n",
    "# print(patients_in_3_4_groups)\n",
    "# leakage_1 = True if len(patients_in_1_2_groups) > 0 else False\n",
    "# leakage_2 = True if len(patients_in_3_4_groups) > 0 else False\n",
    "# print(leakage_1)\n",
    "# print(leakage_2)"
   ]
  },
  {
   "cell_type": "code",
   "execution_count": 81,
   "metadata": {},
   "outputs": [
    {
     "name": "stdout",
     "output_type": "stream",
     "text": [
      "[0, 1, 2, 3, 4, 5, 6, 7, 8, 9, 10, 11, 12, 13, 14, 15, 16, 17, 18, 19, 20, 21, 22, 23, 24, 25, 26, 27, 28, 29, 30, 31, 32, 33, 34, 35, 36, 37, 38, 39, 40, 41, 42, 43, 44, 45, 46, 47, 48, 49]\n"
     ]
    }
   ],
   "source": [
    "import numpy as np\n",
    "start_x = [i for i in range(np.random.randint(240-160+1))]\n",
    "print(start_x)"
   ]
  },
  {
   "cell_type": "code",
   "execution_count": null,
   "metadata": {},
   "outputs": [],
   "source": []
  }
 ],
 "metadata": {
  "kernelspec": {
   "display_name": "Python 3",
   "language": "python",
   "name": "python3"
  },
  "language_info": {
   "codemirror_mode": {
    "name": "ipython",
    "version": 3
   },
   "file_extension": ".py",
   "mimetype": "text/x-python",
   "name": "python",
   "nbconvert_exporter": "python",
   "pygments_lexer": "ipython3",
   "version": "3.7.1"
  }
 },
 "nbformat": 4,
 "nbformat_minor": 4
}
